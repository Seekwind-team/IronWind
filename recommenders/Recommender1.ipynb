{
 "cells": [
  {
   "cell_type": "code",
   "execution_count": 19,
   "metadata": {},
   "outputs": [
    {
     "ename": "ModuleNotFoundError",
     "evalue": "No module named 'umap'",
     "output_type": "error",
     "traceback": [
      "\u001b[1;31m---------------------------------------------------------------------------\u001b[0m",
      "\u001b[1;31mModuleNotFoundError\u001b[0m                       Traceback (most recent call last)",
      "\u001b[1;32m<ipython-input-19-c333717b6cd2>\u001b[0m in \u001b[0;36m<module>\u001b[1;34m\u001b[0m\n\u001b[0;32m      2\u001b[0m \u001b[1;32mimport\u001b[0m \u001b[0mnumpy\u001b[0m \u001b[1;32mas\u001b[0m \u001b[0mnp\u001b[0m\u001b[1;33m\u001b[0m\u001b[1;33m\u001b[0m\u001b[0m\n\u001b[0;32m      3\u001b[0m \u001b[1;32mimport\u001b[0m \u001b[0mrandom\u001b[0m\u001b[1;33m\u001b[0m\u001b[1;33m\u001b[0m\u001b[0m\n\u001b[1;32m----> 4\u001b[1;33m \u001b[1;32mimport\u001b[0m \u001b[0mumap\u001b[0m\u001b[1;33m\u001b[0m\u001b[1;33m\u001b[0m\u001b[0m\n\u001b[0m\u001b[0;32m      5\u001b[0m \u001b[1;32mfrom\u001b[0m \u001b[0mtqdm\u001b[0m \u001b[1;32mimport\u001b[0m \u001b[0mtqdm\u001b[0m\u001b[1;33m\u001b[0m\u001b[1;33m\u001b[0m\u001b[0m\n\u001b[0;32m      6\u001b[0m \u001b[1;32mfrom\u001b[0m \u001b[0mgensim\u001b[0m\u001b[1;33m.\u001b[0m\u001b[0mmodels\u001b[0m \u001b[1;32mimport\u001b[0m \u001b[0mWord2Vec\u001b[0m\u001b[1;33m\u001b[0m\u001b[1;33m\u001b[0m\u001b[0m\n",
      "\u001b[1;31mModuleNotFoundError\u001b[0m: No module named 'umap'"
     ]
    }
   ],
   "source": [
    "import pandas as pd\n",
    "import numpy as np\n",
    "import random\n",
    "import umap\n",
    "from tqdm import tqdm\n",
    "from gensim.models import Word2Vec \n",
    "import matplotlib.pyplot as plt\n",
    "%matplotlib inline\n",
    "\n",
    "import warnings;\n",
    "warnings.filterwarnings('ignore')"
   ]
  },
  {
   "cell_type": "code",
   "execution_count": 20,
   "metadata": {
    "scrolled": true
   },
   "outputs": [
    {
     "data": {
      "text/html": [
       "<div>\n",
       "<style scoped>\n",
       "    .dataframe tbody tr th:only-of-type {\n",
       "        vertical-align: middle;\n",
       "    }\n",
       "\n",
       "    .dataframe tbody tr th {\n",
       "        vertical-align: top;\n",
       "    }\n",
       "\n",
       "    .dataframe thead th {\n",
       "        text-align: right;\n",
       "    }\n",
       "</style>\n",
       "<table border=\"1\" class=\"dataframe\">\n",
       "  <thead>\n",
       "    <tr style=\"text-align: right;\">\n",
       "      <th></th>\n",
       "      <th>jobID</th>\n",
       "      <th>userID</th>\n",
       "      <th>like</th>\n",
       "      <th>description</th>\n",
       "      <th>location</th>\n",
       "      <th>jobTitle</th>\n",
       "      <th>hashtags</th>\n",
       "    </tr>\n",
       "  </thead>\n",
       "  <tbody>\n",
       "    <tr>\n",
       "      <th>0</th>\n",
       "      <td>5f3ba0d0809ba90012487452</td>\n",
       "      <td>5f2c43b515633f0012d6db66</td>\n",
       "      <td>False</td>\n",
       "      <td>Für deine Arbeit als Bauzeichner ist Gewissenh...</td>\n",
       "      <td>Karlsruhe</td>\n",
       "      <td>Schülerpraktikum Bauzeichner</td>\n",
       "      <td>Parktikum, Schüler, Bauzeichner, Bau, Zeichnen</td>\n",
       "    </tr>\n",
       "    <tr>\n",
       "      <th>1</th>\n",
       "      <td>5f3ba0ae809ba9001248744e</td>\n",
       "      <td>5f2c43b515633f0012d6db66</td>\n",
       "      <td>False</td>\n",
       "      <td>-Eigenständige Durchführung von Instandhaltung...</td>\n",
       "      <td>Mannheim</td>\n",
       "      <td>Mechaniker (m/w/d)</td>\n",
       "      <td>Trenkwalder, Mannheim, Baustoffe, Mechaniker</td>\n",
       "    </tr>\n",
       "    <tr>\n",
       "      <th>2</th>\n",
       "      <td>5f3b9ee1809ba90012487449</td>\n",
       "      <td>5f2c43b515633f0012d6db66</td>\n",
       "      <td>False</td>\n",
       "      <td>NaN</td>\n",
       "      <td>NaN</td>\n",
       "      <td>NaN</td>\n",
       "      <td>NaN</td>\n",
       "    </tr>\n",
       "    <tr>\n",
       "      <th>3</th>\n",
       "      <td>5f3b9d1b809ba9001248743e</td>\n",
       "      <td>5f2c43b515633f0012d6db66</td>\n",
       "      <td>False</td>\n",
       "      <td>Während deiner Ausbildung lernst du den sicher...</td>\n",
       "      <td>Karlsruhe</td>\n",
       "      <td>Ausbildung zum Augenoptiker (m/w/d)</td>\n",
       "      <td>Optiker, Ausbildung, Augen, Sehen</td>\n",
       "    </tr>\n",
       "    <tr>\n",
       "      <th>4</th>\n",
       "      <td>5f3b7a10809ba9001248740c</td>\n",
       "      <td>5f2c43b515633f0012d6db66</td>\n",
       "      <td>False</td>\n",
       "      <td>Meisterliche „Ausbau-Fähigkeiten“ verdienen me...</td>\n",
       "      <td>Mannheim</td>\n",
       "      <td>Schreinermeister (m/w/d)</td>\n",
       "      <td>WERU, Martin, Mannheim, Festanstellung, Unbefr...</td>\n",
       "    </tr>\n",
       "  </tbody>\n",
       "</table>\n",
       "</div>"
      ],
      "text/plain": [
       "                      jobID                    userID   like  \\\n",
       "0  5f3ba0d0809ba90012487452  5f2c43b515633f0012d6db66  False   \n",
       "1  5f3ba0ae809ba9001248744e  5f2c43b515633f0012d6db66  False   \n",
       "2  5f3b9ee1809ba90012487449  5f2c43b515633f0012d6db66  False   \n",
       "3  5f3b9d1b809ba9001248743e  5f2c43b515633f0012d6db66  False   \n",
       "4  5f3b7a10809ba9001248740c  5f2c43b515633f0012d6db66  False   \n",
       "\n",
       "                                         description   location  \\\n",
       "0  Für deine Arbeit als Bauzeichner ist Gewissenh...  Karlsruhe   \n",
       "1  -Eigenständige Durchführung von Instandhaltung...   Mannheim   \n",
       "2                                                NaN        NaN   \n",
       "3  Während deiner Ausbildung lernst du den sicher...  Karlsruhe   \n",
       "4  Meisterliche „Ausbau-Fähigkeiten“ verdienen me...   Mannheim   \n",
       "\n",
       "                              jobTitle  \\\n",
       "0         Schülerpraktikum Bauzeichner   \n",
       "1                   Mechaniker (m/w/d)   \n",
       "2                                  NaN   \n",
       "3  Ausbildung zum Augenoptiker (m/w/d)   \n",
       "4             Schreinermeister (m/w/d)   \n",
       "\n",
       "                                            hashtags  \n",
       "0     Parktikum, Schüler, Bauzeichner, Bau, Zeichnen  \n",
       "1       Trenkwalder, Mannheim, Baustoffe, Mechaniker  \n",
       "2                                                NaN  \n",
       "3                  Optiker, Ausbildung, Augen, Sehen  \n",
       "4  WERU, Martin, Mannheim, Festanstellung, Unbefr...  "
      ]
     },
     "execution_count": 20,
     "metadata": {},
     "output_type": "execute_result"
    }
   ],
   "source": [
    "df = pd.read_csv(\"matching2.csv\")\n",
    "df.head()"
   ]
  },
  {
   "cell_type": "code",
   "execution_count": 21,
   "metadata": {},
   "outputs": [
    {
     "data": {
      "text/plain": [
       "(4904, 7)"
      ]
     },
     "execution_count": 21,
     "metadata": {},
     "output_type": "execute_result"
    }
   ],
   "source": [
    "df.shape"
   ]
  },
  {
   "cell_type": "code",
   "execution_count": 22,
   "metadata": {},
   "outputs": [
    {
     "data": {
      "text/plain": [
       "jobID           0\n",
       "userID          0\n",
       "like            0\n",
       "description    52\n",
       "location       52\n",
       "jobTitle       52\n",
       "hashtags       52\n",
       "dtype: int64"
      ]
     },
     "execution_count": 22,
     "metadata": {},
     "output_type": "execute_result"
    }
   ],
   "source": [
    "df.isnull().sum()"
   ]
  },
  {
   "cell_type": "code",
   "execution_count": 23,
   "metadata": {},
   "outputs": [],
   "source": [
    "# remove missing values\n",
    "df.dropna(inplace=True)"
   ]
  },
  {
   "cell_type": "code",
   "execution_count": 24,
   "metadata": {},
   "outputs": [
    {
     "data": {
      "text/plain": [
       "(4852, 7)"
      ]
     },
     "execution_count": 24,
     "metadata": {},
     "output_type": "execute_result"
    }
   ],
   "source": [
    "df.shape"
   ]
  },
  {
   "cell_type": "code",
   "execution_count": 25,
   "metadata": {},
   "outputs": [
    {
     "data": {
      "text/plain": [
       "67"
      ]
     },
     "execution_count": 25,
     "metadata": {},
     "output_type": "execute_result"
    }
   ],
   "source": [
    "users = df[\"userID\"].unique().tolist()\n",
    "len(users)"
   ]
  },
  {
   "cell_type": "code",
   "execution_count": 26,
   "metadata": {},
   "outputs": [],
   "source": [
    "# shuffle user ID's\n",
    "random.shuffle(users)\n",
    "\n",
    "# extract 90% of user ID's\n",
    "users_train = [users[i] for i in range(round(0.9*len(users)))]\n",
    "\n",
    "# split data into train and validation set\n",
    "train_df = df[df['userID'].isin(users_train)]\n",
    "validation_df = df[~df['userID'].isin(users_train)]"
   ]
  },
  {
   "cell_type": "code",
   "execution_count": 27,
   "metadata": {},
   "outputs": [
    {
     "name": "stderr",
     "output_type": "stream",
     "text": [
      "100%|██████████████████████████████████████████████████████████████| 60/60 [00:00<00:00, 1395.60it/s]\n"
     ]
    }
   ],
   "source": [
    "# swipe history training\n",
    "likes_train = []\n",
    "\n",
    "# add liked jobs to list\n",
    "for i in tqdm(users_train):\n",
    "    temp = train_df[train_df[\"userID\"] == i][\"jobID\"].tolist()\n",
    "    likes_train.append(temp)"
   ]
  },
  {
   "cell_type": "code",
   "execution_count": 28,
   "metadata": {},
   "outputs": [
    {
     "name": "stderr",
     "output_type": "stream",
     "text": [
      "100%|████████████████████████████████████████████████████████████████| 7/7 [00:00<00:00, 1744.62it/s]\n"
     ]
    }
   ],
   "source": [
    "# swipe history testing\n",
    "likes_val = []\n",
    "\n",
    "# add liked jobs to list\n",
    "for i in tqdm(validation_df[\"userID\"].unique()):\n",
    "    temp = validation_df[validation_df[\"userID\"] == i][\"jobID\"].tolist()\n",
    "    likes_val.append(temp)"
   ]
  },
  {
   "cell_type": "code",
   "execution_count": 59,
   "metadata": {},
   "outputs": [
    {
     "data": {
      "text/plain": [
       "(20126, 43480)"
      ]
     },
     "execution_count": 59,
     "metadata": {},
     "output_type": "execute_result"
    }
   ],
   "source": [
    "model = Word2Vec(window = 2, sg = 0, hs = 1,\n",
    "                negative = 10,\n",
    "                alpha = 0.03, min_alpha=0.0007,\n",
    "                seed = 13)\n",
    "\n",
    "model.build_vocab(likes_train, progress_per=200)\n",
    "\n",
    "model.train(likes_train, total_examples = model.corpus_count,\n",
    "            epochs=10, report_delay=1)"
   ]
  },
  {
   "cell_type": "code",
   "execution_count": 60,
   "metadata": {},
   "outputs": [
    {
     "name": "stdout",
     "output_type": "stream",
     "text": [
      "Word2Vec(vocab=119, size=100, alpha=0.03)\n"
     ]
    }
   ],
   "source": [
    "print(model)"
   ]
  },
  {
   "cell_type": "code",
   "execution_count": 61,
   "metadata": {},
   "outputs": [
    {
     "data": {
      "text/plain": [
       "(119, 100)"
      ]
     },
     "execution_count": 61,
     "metadata": {},
     "output_type": "execute_result"
    }
   ],
   "source": [
    "# extract all vectors\n",
    "X = model[model.wv.vocab]\n",
    "\n",
    "X.shape"
   ]
  },
  {
   "cell_type": "code",
   "execution_count": 62,
   "metadata": {},
   "outputs": [],
   "source": [
    "jobs = train_df[[\"jobID\",\"jobTitle\"]]\n",
    "\n",
    "# remove duplicates\n",
    "jobs.drop_duplicates(inplace=True, subset='jobID', keep=\"last\")\n",
    "\n",
    "job_dict = jobs.groupby(\"jobID\")[\"jobTitle\"].apply(list).to_dict()"
   ]
  },
  {
   "cell_type": "code",
   "execution_count": 63,
   "metadata": {},
   "outputs": [
    {
     "data": {
      "text/plain": [
       "['Schülerpraktikum Bauzeichner']"
      ]
     },
     "execution_count": 63,
     "metadata": {},
     "output_type": "execute_result"
    }
   ],
   "source": [
    "job_dict[\"5f3ba0d0809ba90012487452\"]"
   ]
  },
  {
   "cell_type": "code",
   "execution_count": 76,
   "metadata": {},
   "outputs": [],
   "source": [
    "def similar_jobs(v, n = 6):\n",
    "    \n",
    "    # extract most similar products for the input vector\n",
    "    ms = model.similar_by_vector(v, topn= n+1)[1:]\n",
    "    print(ms)\n",
    "    # extract name and similarity score of the similar products\n",
    "    new_ms = []\n",
    "    for j in ms:\n",
    "        pair = (job_dict[j[0]][0], j[1])\n",
    "        #pair = (j[0], j[1]) use this to get back jobIds with similarity\n",
    "        new_ms.append(pair)\n",
    "        \n",
    "    return new_ms"
   ]
  },
  {
   "cell_type": "code",
   "execution_count": 77,
   "metadata": {},
   "outputs": [
    {
     "name": "stdout",
     "output_type": "stream",
     "text": [
      "[('5f3ba0ae809ba9001248744e', 0.992262601852417), ('5f46c4020b4ceb0012577514', 0.985022783279419), ('5f3b7a10809ba9001248740c', 0.9767637252807617), ('5f3b9d1b809ba9001248743e', 0.9755334854125977), ('5f46c88b0b4ceb001257751e', 0.9721207022666931), ('5f3b78a4809ba900124873fa', 0.9643678665161133)]\n"
     ]
    },
    {
     "data": {
      "text/plain": [
       "[('5f3ba0ae809ba9001248744e', 0.992262601852417),\n",
       " ('5f46c4020b4ceb0012577514', 0.985022783279419),\n",
       " ('5f3b7a10809ba9001248740c', 0.9767637252807617),\n",
       " ('5f3b9d1b809ba9001248743e', 0.9755334854125977),\n",
       " ('5f46c88b0b4ceb001257751e', 0.9721207022666931),\n",
       " ('5f3b78a4809ba900124873fa', 0.9643678665161133)]"
      ]
     },
     "execution_count": 77,
     "metadata": {},
     "output_type": "execute_result"
    }
   ],
   "source": [
    "similar_jobs(model[\"5f3ba0d0809ba90012487452\"])"
   ]
  },
  {
   "cell_type": "code",
   "execution_count": null,
   "metadata": {},
   "outputs": [],
   "source": []
  }
 ],
 "metadata": {
  "kernelspec": {
   "display_name": "Python 3",
   "language": "python",
   "name": "python3"
  },
  "language_info": {
   "codemirror_mode": {
    "name": "ipython",
    "version": 3
   },
   "file_extension": ".py",
   "mimetype": "text/x-python",
   "name": "python",
   "nbconvert_exporter": "python",
   "pygments_lexer": "ipython3",
   "version": "3.8.6"
  }
 },
 "nbformat": 4,
 "nbformat_minor": 4
}
